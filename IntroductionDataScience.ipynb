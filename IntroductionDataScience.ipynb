{
 "cells": [
  {
   "cell_type": "markdown",
   "metadata": {},
   "source": [
    "<center>\n",
    "    <img src=\"https://cf-courses-data.s3.us.cloud-object-storage.appdomain.cloud/IBMDeveloperSkillsNetwork-DS0105EN-SkillsNetwork/labs/Module2/images/SN_web_lightmode.png\" width=\"300\" alt=\"cognitiveclass.ai logo\">\n",
    "</center>\n"
   ]
  },
  {
   "cell_type": "code",
   "execution_count": 30,
   "metadata": {},
   "outputs": [],
   "source": [
    "# Exercise 2 - Notebook Title"
   ]
  },
  {
   "cell_type": "markdown",
   "metadata": {},
   "source": [
    "# Jupyter Notebook for Data Science\n"
   ]
  },
  {
   "cell_type": "code",
   "execution_count": 31,
   "metadata": {},
   "outputs": [],
   "source": [
    "# Exercise 3 - Introduction"
   ]
  },
  {
   "cell_type": "markdown",
   "metadata": {},
   "source": [
    "This notebook contains exercises related to basic data science concepts, including languages, libraries, tools, mathematical operations, and more."
   ]
  },
  {
   "cell_type": "code",
   "execution_count": 32,
   "metadata": {},
   "outputs": [],
   "source": [
    "# Exercise 4 - Data Science Languages"
   ]
  },
  {
   "cell_type": "markdown",
   "metadata": {},
   "source": [
    "Some of the most common languages in data science are:\n",
    "- Python\n",
    "- R\n",
    "- SQL\n",
    "- Julia\n",
    "- Scala"
   ]
  },
  {
   "cell_type": "code",
   "execution_count": 33,
   "metadata": {},
   "outputs": [],
   "source": [
    "#Exercise 5 - Data Science Libraries"
   ]
  },
  {
   "cell_type": "markdown",
   "metadata": {},
   "source": [
    "The most commonly used libraries in data science are:\n",
    "- Pandas\n",
    "- NumPy\n",
    "- Matplotlib\n",
    "- Scikit-learn\n",
    "- TensorFlow"
   ]
  },
  {
   "cell_type": "code",
   "execution_count": 34,
   "metadata": {},
   "outputs": [],
   "source": [
    "# Exercise 6 - Data Science Tools"
   ]
  },
  {
   "cell_type": "markdown",
   "metadata": {},
   "source": [
    "| Tool                 | Description                                        |\n",
    "|----------------------|----------------------------------------------------|\n",
    "| Jupyter Notebook      | Interactive environment for running code           |\n",
    "| RStudio              | IDE for working with R                             |\n",
    "| Apache Spark         | Distributed processing engine                      |\n",
    "| Tableau              | Data visualization tool                            |\n",
    "| TensorFlow           | Machine learning library                           |"
   ]
  },
  {
   "cell_type": "code",
   "execution_count": 35,
   "metadata": {},
   "outputs": [],
   "source": [
    "# Exercise 7 - Arithmetic Expressions Examples"
   ]
  },
  {
   "cell_type": "markdown",
   "metadata": {},
   "source": [
    "In data science, several arithmetic operations like addition, subtraction, multiplication, and division can be performed. Below, we will see some examples of how to do this in code.\n"
   ]
  },
  {
   "cell_type": "code",
   "execution_count": 57,
   "metadata": {},
   "outputs": [
    {
     "name": "stdout",
     "output_type": "stream",
     "text": [
      "4 7 3 2\n",
      "The result of the multiplication of  4  and  7  is : 28 . For the addition of  3  and  2 , the result is:  5\n"
     ]
    }
   ],
   "source": [
    "# Exercise 8 - Multiply and Add Numbers\n",
    "\n",
    "# Generate random integers between 1 and 10 (or specify your own range)\n",
    "n1 = random.randint(1, 10)\n",
    "n2 = random.randint(1, 10)\n",
    "n3 = random.randint(1, 10)\n",
    "n4 = random.randint(1, 10)\n",
    "print(n1,n2,n3,n4)\n",
    "\n",
    "#Now performe the operations of multiplication and addition\n",
    "multiplication = n1 * n2\n",
    "addition = n3 + n4\n",
    "print(\"The result of the multiplication of \", n1, \" and \" ,n2, \" is :\", multiplication, \n",
    "      \". For the addition of \", n3, \" and \", n4,\n",
    "      \", the result is: \", addition)"
   ]
  },
  {
   "cell_type": "code",
   "execution_count": 58,
   "metadata": {},
   "outputs": [
    {
     "name": "stdout",
     "output_type": "stream",
     "text": [
      "The result in hours is: 2.0 hours.\n"
     ]
    }
   ],
   "source": [
    "# Exercise 9 - Convert Minutes to Hours\n",
    "minutes = 120\n",
    "hours = minutes / 60\n",
    "print(\"The result in hours is:\", hours, \"hours.\")"
   ]
  },
  {
   "cell_type": "code",
   "execution_count": 38,
   "metadata": {},
   "outputs": [
    {
     "data": {
      "text/plain": [
       "['Learn basic data science concepts',\n",
       " 'Get familiar with languages and libraries',\n",
       " 'Develop programming skills']"
      ]
     },
     "execution_count": 38,
     "metadata": {},
     "output_type": "execute_result"
    }
   ],
   "source": [
    "# Exercise 10 - List Objectives\n",
    "objectives = [\"Learn basic data science concepts\", \n",
    "              \"Get familiar with languages and libraries\", \n",
    "              \"Develop programming skills\"]\n",
    "objectives"
   ]
  },
  {
   "cell_type": "code",
   "execution_count": 39,
   "metadata": {},
   "outputs": [],
   "source": [
    "# Exercise 11 - Author Name"
   ]
  },
  {
   "cell_type": "markdown",
   "metadata": {},
   "source": [
    "Author: [Miriam]"
   ]
  },
  {
   "cell_type": "code",
   "execution_count": null,
   "metadata": {},
   "outputs": [],
   "source": []
  }
 ],
 "metadata": {
  "kernelspec": {
   "display_name": "Python 3 (ipykernel)",
   "language": "python",
   "name": "python3"
  },
  "language_info": {
   "codemirror_mode": {
    "name": "ipython",
    "version": 3
   },
   "file_extension": ".py",
   "mimetype": "text/x-python",
   "name": "python",
   "nbconvert_exporter": "python",
   "pygments_lexer": "ipython3",
   "version": "3.11.9"
  }
 },
 "nbformat": 4,
 "nbformat_minor": 4
}
